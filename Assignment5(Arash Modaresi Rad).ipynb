{
 "cells": [
  {
   "cell_type": "markdown",
   "metadata": {},
   "source": [
    "# Assignment 5: Text Processing\n",
    "# CS 533 Fall 2019"
   ]
  },
  {
   "cell_type": "markdown",
   "metadata": {},
   "source": [
    "**Arash Modaresi Rad**"
   ]
  },
  {
   "cell_type": "markdown",
   "metadata": {},
   "source": [
    "## Requirements"
   ]
  },
  {
   "cell_type": "code",
   "execution_count": 39,
   "metadata": {},
   "outputs": [],
   "source": [
    "import pandas as pd\n",
    "import numpy as np\n",
    "import seaborn as sns\n",
    "import matplotlib.pyplot as plt\n",
    "import statsmodels.api as sm\n",
    "import statsmodels.formula.api as smf\n",
    "import os\n",
    "import glob\n",
    "from sklearn import metrics\n",
    "import sklearn.metrics as metrics\n",
    "from pathlib import Path\n",
    "import scipy.sparse as sps"
   ]
  },
  {
   "cell_type": "markdown",
   "metadata": {},
   "source": [
    "We need text processing libraries from SciKit-Learn:"
   ]
  },
  {
   "cell_type": "code",
   "execution_count": 38,
   "metadata": {},
   "outputs": [],
   "source": [
    "from sklearn.feature_extraction.text import CountVectorizer, TfidfVectorizer\n",
    "from sklearn.dummy import DummyClassifier\n",
    "import sklearn.linear_model as lm\n",
    "import sklearn.naive_bayes as nb\n",
    "from sklearn.metrics import roc_curve\n",
    "from sklearn.neighbors import KNeighborsClassifier\n",
    "from sklearn.cluster import KMeans\n",
    "from sklearn.decomposition import TruncatedSVD\n",
    "from sklearn.pipeline import make_pipeline\n",
    "from sklearn.metrics import silhouette_score"
   ]
  },
  {
   "cell_type": "markdown",
   "metadata": {},
   "source": [
    "And set our random seed - this will make the notebook work the same for reproducibility:"
   ]
  },
  {
   "cell_type": "code",
   "execution_count": 3,
   "metadata": {},
   "outputs": [],
   "source": [
    "np.random.seed(11072019)"
   ]
  },
  {
   "cell_type": "code",
   "execution_count": 4,
   "metadata": {},
   "outputs": [],
   "source": [
    "seed = 11072019"
   ]
  },
  {
   "cell_type": "markdown",
   "metadata": {},
   "source": [
    "Direct reproduciblity is good for debugging, but check w/ another seed to look for flukes."
   ]
  },
  {
   "cell_type": "markdown",
   "metadata": {},
   "source": [
    "## Part 1: Load and Prepare Data"
   ]
  },
  {
   "cell_type": "markdown",
   "metadata": {},
   "source": [
    "Read the data:"
   ]
  },
  {
   "cell_type": "code",
   "execution_count": 5,
   "metadata": {},
   "outputs": [],
   "source": [
    "articles = pd.DataFrame.from_records(\n",
    "    ((f.parent.name, f.name, f.read_text())\n",
    "     for f in Path('Data/bbc').glob('*/*.txt')),\n",
    "    columns=['category', 'file', 'text']\n",
    ")"
   ]
  },
  {
   "cell_type": "markdown",
   "metadata": {},
   "source": [
    "This loops over all text files and reads them into records, that you then turn into a Pandas data frame."
   ]
  },
  {
   "cell_type": "code",
   "execution_count": 6,
   "metadata": {},
   "outputs": [
    {
     "data": {
      "text/html": [
       "<div>\n",
       "<style scoped>\n",
       "    .dataframe tbody tr th:only-of-type {\n",
       "        vertical-align: middle;\n",
       "    }\n",
       "\n",
       "    .dataframe tbody tr th {\n",
       "        vertical-align: top;\n",
       "    }\n",
       "\n",
       "    .dataframe thead th {\n",
       "        text-align: right;\n",
       "    }\n",
       "</style>\n",
       "<table border=\"1\" class=\"dataframe\">\n",
       "  <thead>\n",
       "    <tr style=\"text-align: right;\">\n",
       "      <th></th>\n",
       "      <th>category</th>\n",
       "      <th>file</th>\n",
       "      <th>text</th>\n",
       "    </tr>\n",
       "  </thead>\n",
       "  <tbody>\n",
       "    <tr>\n",
       "      <th>0</th>\n",
       "      <td>business</td>\n",
       "      <td>001.txt</td>\n",
       "      <td>Ad sales boost Time Warner profit\\n\\nQuarterly...</td>\n",
       "    </tr>\n",
       "    <tr>\n",
       "      <th>1</th>\n",
       "      <td>business</td>\n",
       "      <td>002.txt</td>\n",
       "      <td>Dollar gains on Greenspan speech\\n\\nThe dollar...</td>\n",
       "    </tr>\n",
       "    <tr>\n",
       "      <th>2</th>\n",
       "      <td>business</td>\n",
       "      <td>003.txt</td>\n",
       "      <td>Yukos unit buyer faces loan claim\\n\\nThe owner...</td>\n",
       "    </tr>\n",
       "    <tr>\n",
       "      <th>3</th>\n",
       "      <td>business</td>\n",
       "      <td>004.txt</td>\n",
       "      <td>High fuel prices hit BA's profits\\n\\nBritish A...</td>\n",
       "    </tr>\n",
       "    <tr>\n",
       "      <th>4</th>\n",
       "      <td>business</td>\n",
       "      <td>005.txt</td>\n",
       "      <td>Pernod takeover talk lifts Domecq\\n\\nShares in...</td>\n",
       "    </tr>\n",
       "  </tbody>\n",
       "</table>\n",
       "</div>"
      ],
      "text/plain": [
       "   category     file                                               text\n",
       "0  business  001.txt  Ad sales boost Time Warner profit\\n\\nQuarterly...\n",
       "1  business  002.txt  Dollar gains on Greenspan speech\\n\\nThe dollar...\n",
       "2  business  003.txt  Yukos unit buyer faces loan claim\\n\\nThe owner...\n",
       "3  business  004.txt  High fuel prices hit BA's profits\\n\\nBritish A...\n",
       "4  business  005.txt  Pernod takeover talk lifts Domecq\\n\\nShares in..."
      ]
     },
     "execution_count": 6,
     "metadata": {},
     "output_type": "execute_result"
    }
   ],
   "source": [
    "articles.head()"
   ]
  },
  {
   "cell_type": "markdown",
   "metadata": {},
   "source": [
    "1.\tShow the distribution of categories - how many articles are there in each category? Do this with a suitable plot."
   ]
  },
  {
   "cell_type": "code",
   "execution_count": 7,
   "metadata": {},
   "outputs": [],
   "source": [
    "articles['value'] = 1\n",
    "#articles.head()"
   ]
  },
  {
   "cell_type": "code",
   "execution_count": 8,
   "metadata": {},
   "outputs": [],
   "source": [
    "catagory_counts = pd.DataFrame(articles.groupby(['category'])['value'].count())\n",
    "catagory_counts = catagory_counts.reset_index()\n",
    "catagory_counts = catagory_counts.rename(columns = {\"value\": \"Number_of_articles\"})\n",
    "#catagory_counts.head()"
   ]
  },
  {
   "cell_type": "code",
   "execution_count": 9,
   "metadata": {},
   "outputs": [
    {
     "data": {
      "image/png": "[encoded data removed]",
      "text/plain": [
       "<Figure size 432x288 with 1 Axes>"
      ]
     },
     "metadata": {
      "needs_background": "light"
     },
     "output_type": "display_data"
    }
   ],
   "source": [
    "ax = sns.barplot(x=\"category\", y=\"Number_of_articles\", data=catagory_counts)"
   ]
  },
  {
   "cell_type": "markdown",
   "metadata": {},
   "source": [
    "2.\tSelect 20% of the data for testing your classifiers."
   ]
  },
  {
   "cell_type": "markdown",
   "metadata": {},
   "source": [
    "Let's make train and test data sets:"
   ]
  },
  {
   "cell_type": "code",
   "execution_count": 10,
   "metadata": {},
   "outputs": [],
   "source": [
    "articles_test = articles.sample(frac=0.20, random_state = seed)\n",
    "train_mask = pd.Series(True, index=articles.index)\n",
    "train_mask[articles_test.index] = False\n",
    "articles_train = articles[train_mask]\n",
    "assert len(articles_test) + len(articles_train) == len(articles)"
   ]
  },
  {
   "cell_type": "code",
   "execution_count": 11,
   "metadata": {},
   "outputs": [
    {
     "data": {
      "text/html": [
       "<div>\n",
       "<style scoped>\n",
       "    .dataframe tbody tr th:only-of-type {\n",
       "        vertical-align: middle;\n",
       "    }\n",
       "\n",
       "    .dataframe tbody tr th {\n",
       "        vertical-align: top;\n",
       "    }\n",
       "\n",
       "    .dataframe thead th {\n",
       "        text-align: right;\n",
       "    }\n",
       "</style>\n",
       "<table border=\"1\" class=\"dataframe\">\n",
       "  <thead>\n",
       "    <tr style=\"text-align: right;\">\n",
       "      <th></th>\n",
       "      <th>category</th>\n",
       "      <th>file</th>\n",
       "      <th>text</th>\n",
       "      <th>value</th>\n",
       "    </tr>\n",
       "  </thead>\n",
       "  <tbody>\n",
       "    <tr>\n",
       "      <th>2167</th>\n",
       "      <td>tech</td>\n",
       "      <td>344.txt</td>\n",
       "      <td>Virgin Radio offers 3G broadcast\\n\\nUK broadca...</td>\n",
       "      <td>1</td>\n",
       "    </tr>\n",
       "    <tr>\n",
       "      <th>151</th>\n",
       "      <td>business</td>\n",
       "      <td>152.txt</td>\n",
       "      <td>Crude oil prices back above $50\\n\\nCold weathe...</td>\n",
       "      <td>1</td>\n",
       "    </tr>\n",
       "    <tr>\n",
       "      <th>1407</th>\n",
       "      <td>sport</td>\n",
       "      <td>095.txt</td>\n",
       "      <td>Man Utd stroll to Cup win\\n\\nWayne Rooney made...</td>\n",
       "      <td>1</td>\n",
       "    </tr>\n",
       "    <tr>\n",
       "      <th>448</th>\n",
       "      <td>business</td>\n",
       "      <td>449.txt</td>\n",
       "      <td>Wal-Mart fights back at accusers\\n\\nTwo big US...</td>\n",
       "      <td>1</td>\n",
       "    </tr>\n",
       "    <tr>\n",
       "      <th>1821</th>\n",
       "      <td>sport</td>\n",
       "      <td>509.txt</td>\n",
       "      <td>Melzer shocks Agassi in San Jose\\n\\nSecond see...</td>\n",
       "      <td>1</td>\n",
       "    </tr>\n",
       "    <tr>\n",
       "      <th>...</th>\n",
       "      <td>...</td>\n",
       "      <td>...</td>\n",
       "      <td>...</td>\n",
       "      <td>...</td>\n",
       "    </tr>\n",
       "    <tr>\n",
       "      <th>1276</th>\n",
       "      <td>politics</td>\n",
       "      <td>381.txt</td>\n",
       "      <td>Hunt ban support is 'in decline'\\n\\nSupport fo...</td>\n",
       "      <td>1</td>\n",
       "    </tr>\n",
       "    <tr>\n",
       "      <th>2091</th>\n",
       "      <td>tech</td>\n",
       "      <td>268.txt</td>\n",
       "      <td>IBM frees 500 software patents\\n\\nComputer gia...</td>\n",
       "      <td>1</td>\n",
       "    </tr>\n",
       "    <tr>\n",
       "      <th>955</th>\n",
       "      <td>politics</td>\n",
       "      <td>060.txt</td>\n",
       "      <td>Cardinal criticises Iraq war cost\\n\\nBillions ...</td>\n",
       "      <td>1</td>\n",
       "    </tr>\n",
       "    <tr>\n",
       "      <th>1413</th>\n",
       "      <td>sport</td>\n",
       "      <td>101.txt</td>\n",
       "      <td>Man City 0-2 Man Utd\\n\\nManchester United redu...</td>\n",
       "      <td>1</td>\n",
       "    </tr>\n",
       "    <tr>\n",
       "      <th>1126</th>\n",
       "      <td>politics</td>\n",
       "      <td>231.txt</td>\n",
       "      <td>Woolf murder sentence rethink\\n\\nPlans to give...</td>\n",
       "      <td>1</td>\n",
       "    </tr>\n",
       "  </tbody>\n",
       "</table>\n",
       "<p>445 rows × 4 columns</p>\n",
       "</div>"
      ],
      "text/plain": [
       "      category     file                                               text  \\\n",
       "2167      tech  344.txt  Virgin Radio offers 3G broadcast\\n\\nUK broadca...   \n",
       "151   business  152.txt  Crude oil prices back above $50\\n\\nCold weathe...   \n",
       "1407     sport  095.txt  Man Utd stroll to Cup win\\n\\nWayne Rooney made...   \n",
       "448   business  449.txt  Wal-Mart fights back at accusers\\n\\nTwo big US...   \n",
       "1821     sport  509.txt  Melzer shocks Agassi in San Jose\\n\\nSecond see...   \n",
       "...        ...      ...                                                ...   \n",
       "1276  politics  381.txt  Hunt ban support is 'in decline'\\n\\nSupport fo...   \n",
       "2091      tech  268.txt  IBM frees 500 software patents\\n\\nComputer gia...   \n",
       "955   politics  060.txt  Cardinal criticises Iraq war cost\\n\\nBillions ...   \n",
       "1413     sport  101.txt  Man City 0-2 Man Utd\\n\\nManchester United redu...   \n",
       "1126  politics  231.txt  Woolf murder sentence rethink\\n\\nPlans to give...   \n",
       "\n",
       "      value  \n",
       "2167      1  \n",
       "151       1  \n",
       "1407      1  \n",
       "448       1  \n",
       "1821      1  \n",
       "...     ...  \n",
       "1276      1  \n",
       "2091      1  \n",
       "955       1  \n",
       "1413      1  \n",
       "1126      1  \n",
       "\n",
       "[445 rows x 4 columns]"
      ]
     },
     "execution_count": 11,
     "metadata": {},
     "output_type": "execute_result"
    }
   ],
   "source": [
    "articles_test"
   ]
  },
  {
   "cell_type": "markdown",
   "metadata": {},
   "source": [
    "3.\tSet up a CountVectorizer and a TfidfVectorizer, each with “stop_words='english'” and transform your training and test data into document-term matrices."
   ]
  },
  {
   "cell_type": "markdown",
   "metadata": {},
   "source": [
    "Let's process our text into *bag of words*"
   ]
  },
  {
   "cell_type": "code",
   "execution_count": 12,
   "metadata": {},
   "outputs": [
    {
     "data": {
      "text/plain": [
       "['00', '000', '0001', '000bn', '000m', '000s', '000th', '001st', '004', '0051']"
      ]
     },
     "execution_count": 12,
     "metadata": {},
     "output_type": "execute_result"
    }
   ],
   "source": [
    "txtcount = CountVectorizer(stop_words='english')\n",
    "train_BW = txtcount.fit_transform(articles_train['text'])\n",
    "txtcount.get_feature_names()[:10]"
   ]
  },
  {
   "cell_type": "code",
   "execution_count": 13,
   "metadata": {},
   "outputs": [
    {
     "data": {
      "text/plain": [
       "['00', '000', '0001', '000bn', '000m', '000s', '000th', '001st', '004', '0051']"
      ]
     },
     "execution_count": 13,
     "metadata": {},
     "output_type": "execute_result"
    }
   ],
   "source": [
    "vectorizer = TfidfVectorizer(stop_words='english')\n",
    "train_Tfidf = vectorizer.fit_transform(articles_train['text'])\n",
    "vectorizer.get_feature_names()[:10]"
   ]
  },
  {
   "cell_type": "markdown",
   "metadata": {},
   "source": [
    "The result is a *sparse matrix*.  Each row is a document, and each column is a word.  It only stores the nonzero values.  We can get the words that correspond to each column from the counter:"
   ]
  },
  {
   "cell_type": "markdown",
   "metadata": {},
   "source": [
    "We will also need the test data turned into a matrix. We will use the same counter object, but will use transform because we do not want to update it with the test data."
   ]
  },
  {
   "cell_type": "code",
   "execution_count": 14,
   "metadata": {},
   "outputs": [],
   "source": [
    "test_BW = txtcount.transform(articles_test['text'])\n",
    "test_Tfidf = vectorizer.transform(articles_test['text'])"
   ]
  },
  {
   "cell_type": "markdown",
   "metadata": {},
   "source": [
    "## Part 2: Classification"
   ]
  },
  {
   "cell_type": "markdown",
   "metadata": {},
   "source": [
    "Train a Naive Bayes classifier on your training data (using count vectors), and test its accuracy on both the training data and the test data. Naive Bayes can handle more than 2 classes just fine."
   ]
  },
  {
   "cell_type": "markdown",
   "metadata": {},
   "source": [
    "**Naive Bayes**"
   ]
  },
  {
   "cell_type": "code",
   "execution_count": 15,
   "metadata": {},
   "outputs": [
    {
     "data": {
      "text/plain": [
       "array([[-11.55219425,  -6.27407959, -11.55219425, ..., -11.55219425,\n",
       "        -11.55219425, -11.55219425],\n",
       "       [-11.34299087,  -6.71801806, -11.34299087, ..., -10.64984369,\n",
       "        -11.34299087, -10.64984369],\n",
       "       [-10.85910476,  -6.78156732, -10.85910476, ..., -11.55225194,\n",
       "        -11.55225194, -11.55225194],\n",
       "       [-10.79731793,  -8.27158928, -11.49046511, ..., -11.49046511,\n",
       "         -9.8810272 , -11.49046511],\n",
       "       [-10.93130177,  -6.58749635, -11.62444895, ..., -11.62444895,\n",
       "        -11.62444895, -11.62444895]])"
      ]
     },
     "execution_count": 15,
     "metadata": {},
     "output_type": "execute_result"
    }
   ],
   "source": [
    "bayes = nb.MultinomialNB()\n",
    "bayes.fit(train_BW, articles_train['category'])\n",
    "bayes.feature_log_prob_"
   ]
  },
  {
   "cell_type": "markdown",
   "metadata": {},
   "source": [
    "We can get its view of classes from `classes_`:"
   ]
  },
  {
   "cell_type": "code",
   "execution_count": 16,
   "metadata": {},
   "outputs": [
    {
     "data": {
      "text/plain": [
       "array(['business', 'entertainment', 'politics', 'sport', 'tech'],\n",
       "      dtype='<U13')"
      ]
     },
     "execution_count": 16,
     "metadata": {},
     "output_type": "execute_result"
    }
   ],
   "source": [
    "bayes.classes_"
   ]
  },
  {
   "cell_type": "markdown",
   "metadata": {},
   "source": [
    "What is the training accuracy of this classifier?"
   ]
  },
  {
   "cell_type": "code",
   "execution_count": 17,
   "metadata": {},
   "outputs": [
    {
     "data": {
      "text/plain": [
       "0.9926966292134831"
      ]
     },
     "execution_count": 17,
     "metadata": {},
     "output_type": "execute_result"
    }
   ],
   "source": [
    "(articles_train['category'] == bayes.predict(train_BW)).mean()"
   ]
  },
  {
   "cell_type": "markdown",
   "metadata": {},
   "source": [
    "And its test accuracy?"
   ]
  },
  {
   "cell_type": "code",
   "execution_count": 18,
   "metadata": {},
   "outputs": [
    {
     "data": {
      "text/plain": [
       "0.9820224719101124"
      ]
     },
     "execution_count": 18,
     "metadata": {},
     "output_type": "execute_result"
    }
   ],
   "source": [
    "(articles_test['category'] == bayes.predict(test_BW)).mean()"
   ]
  },
  {
   "cell_type": "markdown",
   "metadata": {},
   "source": [
    "Since test accurecy is lower than training accurecy we can assume that the classifier is not overfitting."
   ]
  },
  {
   "cell_type": "markdown",
   "metadata": {},
   "source": [
    "Let's look at words.  The log probability matrix is $2 \\times k$; let's transpose that and make a data frame:"
   ]
  },
  {
   "cell_type": "code",
   "execution_count": 19,
   "metadata": {},
   "outputs": [
    {
     "data": {
      "text/html": [
       "<div>\n",
       "<style scoped>\n",
       "    .dataframe tbody tr th:only-of-type {\n",
       "        vertical-align: middle;\n",
       "    }\n",
       "\n",
       "    .dataframe tbody tr th {\n",
       "        vertical-align: top;\n",
       "    }\n",
       "\n",
       "    .dataframe thead th {\n",
       "        text-align: right;\n",
       "    }\n",
       "</style>\n",
       "<table border=\"1\" class=\"dataframe\">\n",
       "  <thead>\n",
       "    <tr style=\"text-align: right;\">\n",
       "      <th></th>\n",
       "      <th>lp_business</th>\n",
       "      <th>lp_entertainment</th>\n",
       "      <th>lp_politics</th>\n",
       "      <th>lp_sport</th>\n",
       "      <th>lp_tech</th>\n",
       "    </tr>\n",
       "  </thead>\n",
       "  <tbody>\n",
       "    <tr>\n",
       "      <th>00</th>\n",
       "      <td>-11.552194</td>\n",
       "      <td>-11.342991</td>\n",
       "      <td>-10.859105</td>\n",
       "      <td>-10.797318</td>\n",
       "      <td>-10.931302</td>\n",
       "    </tr>\n",
       "    <tr>\n",
       "      <th>000</th>\n",
       "      <td>-6.274080</td>\n",
       "      <td>-6.718018</td>\n",
       "      <td>-6.781567</td>\n",
       "      <td>-8.271589</td>\n",
       "      <td>-6.587496</td>\n",
       "    </tr>\n",
       "    <tr>\n",
       "      <th>0001</th>\n",
       "      <td>-11.552194</td>\n",
       "      <td>-11.342991</td>\n",
       "      <td>-10.859105</td>\n",
       "      <td>-11.490465</td>\n",
       "      <td>-11.624449</td>\n",
       "    </tr>\n",
       "    <tr>\n",
       "      <th>000bn</th>\n",
       "      <td>-10.859047</td>\n",
       "      <td>-11.342991</td>\n",
       "      <td>-11.552252</td>\n",
       "      <td>-11.490465</td>\n",
       "      <td>-11.624449</td>\n",
       "    </tr>\n",
       "    <tr>\n",
       "      <th>000m</th>\n",
       "      <td>-11.552194</td>\n",
       "      <td>-11.342991</td>\n",
       "      <td>-11.552252</td>\n",
       "      <td>-7.993958</td>\n",
       "      <td>-11.624449</td>\n",
       "    </tr>\n",
       "  </tbody>\n",
       "</table>\n",
       "</div>"
      ],
      "text/plain": [
       "       lp_business  lp_entertainment  lp_politics   lp_sport    lp_tech\n",
       "00      -11.552194        -11.342991   -10.859105 -10.797318 -10.931302\n",
       "000      -6.274080         -6.718018    -6.781567  -8.271589  -6.587496\n",
       "0001    -11.552194        -11.342991   -10.859105 -11.490465 -11.624449\n",
       "000bn   -10.859047        -11.342991   -11.552252 -11.490465 -11.624449\n",
       "000m    -11.552194        -11.342991   -11.552252  -7.993958 -11.624449"
      ]
     },
     "execution_count": 19,
     "metadata": {},
     "output_type": "execute_result"
    }
   ],
   "source": [
    "nb_words = pd.DataFrame(bayes.feature_log_prob_.T, index=txtcount.get_feature_names(),\n",
    "                        columns=['lp_business', 'lp_entertainment', 'lp_politics', 'lp_sport', 'lp_tech'])\n",
    "nb_words.head()"
   ]
  },
  {
   "cell_type": "markdown",
   "metadata": {},
   "source": [
    "What words have the highest $P(business|w)$?"
   ]
  },
  {
   "cell_type": "code",
   "execution_count": 20,
   "metadata": {},
   "outputs": [
    {
     "data": {
      "text/html": [
       "<div>\n",
       "<style scoped>\n",
       "    .dataframe tbody tr th:only-of-type {\n",
       "        vertical-align: middle;\n",
       "    }\n",
       "\n",
       "    .dataframe tbody tr th {\n",
       "        vertical-align: top;\n",
       "    }\n",
       "\n",
       "    .dataframe thead th {\n",
       "        text-align: right;\n",
       "    }\n",
       "</style>\n",
       "<table border=\"1\" class=\"dataframe\">\n",
       "  <thead>\n",
       "    <tr style=\"text-align: right;\">\n",
       "      <th></th>\n",
       "      <th>lp_business</th>\n",
       "      <th>lp_entertainment</th>\n",
       "      <th>lp_politics</th>\n",
       "      <th>lp_sport</th>\n",
       "      <th>lp_tech</th>\n",
       "    </tr>\n",
       "  </thead>\n",
       "  <tbody>\n",
       "    <tr>\n",
       "      <th>said</th>\n",
       "      <td>-4.303690</td>\n",
       "      <td>-4.799079</td>\n",
       "      <td>-4.081458</td>\n",
       "      <td>-4.792197</td>\n",
       "      <td>-4.479253</td>\n",
       "    </tr>\n",
       "    <tr>\n",
       "      <th>year</th>\n",
       "      <td>-5.160277</td>\n",
       "      <td>-5.437629</td>\n",
       "      <td>-6.181614</td>\n",
       "      <td>-5.496504</td>\n",
       "      <td>-5.958022</td>\n",
       "    </tr>\n",
       "    <tr>\n",
       "      <th>mr</th>\n",
       "      <td>-5.349659</td>\n",
       "      <td>-6.280396</td>\n",
       "      <td>-4.359318</td>\n",
       "      <td>-8.717876</td>\n",
       "      <td>-5.637997</td>\n",
       "    </tr>\n",
       "    <tr>\n",
       "      <th>market</th>\n",
       "      <td>-5.674458</td>\n",
       "      <td>-8.509778</td>\n",
       "      <td>-8.333376</td>\n",
       "      <td>-11.490465</td>\n",
       "      <td>-6.398702</td>\n",
       "    </tr>\n",
       "    <tr>\n",
       "      <th>new</th>\n",
       "      <td>-5.714464</td>\n",
       "      <td>-5.786163</td>\n",
       "      <td>-5.705813</td>\n",
       "      <td>-5.985134</td>\n",
       "      <td>-5.549103</td>\n",
       "    </tr>\n",
       "  </tbody>\n",
       "</table>\n",
       "</div>"
      ],
      "text/plain": [
       "        lp_business  lp_entertainment  lp_politics   lp_sport   lp_tech\n",
       "said      -4.303690         -4.799079    -4.081458  -4.792197 -4.479253\n",
       "year      -5.160277         -5.437629    -6.181614  -5.496504 -5.958022\n",
       "mr        -5.349659         -6.280396    -4.359318  -8.717876 -5.637997\n",
       "market    -5.674458         -8.509778    -8.333376 -11.490465 -6.398702\n",
       "new       -5.714464         -5.786163    -5.705813  -5.985134 -5.549103"
      ]
     },
     "execution_count": 20,
     "metadata": {},
     "output_type": "execute_result"
    }
   ],
   "source": [
    "nb_words.nlargest(5, 'lp_business')"
   ]
  },
  {
   "cell_type": "markdown",
   "metadata": {},
   "source": [
    "What words have the highest $P(entertainment|w)$?"
   ]
  },
  {
   "cell_type": "code",
   "execution_count": 21,
   "metadata": {},
   "outputs": [
    {
     "data": {
      "text/html": [
       "<div>\n",
       "<style scoped>\n",
       "    .dataframe tbody tr th:only-of-type {\n",
       "        vertical-align: middle;\n",
       "    }\n",
       "\n",
       "    .dataframe tbody tr th {\n",
       "        vertical-align: top;\n",
       "    }\n",
       "\n",
       "    .dataframe thead th {\n",
       "        text-align: right;\n",
       "    }\n",
       "</style>\n",
       "<table border=\"1\" class=\"dataframe\">\n",
       "  <thead>\n",
       "    <tr style=\"text-align: right;\">\n",
       "      <th></th>\n",
       "      <th>lp_business</th>\n",
       "      <th>lp_entertainment</th>\n",
       "      <th>lp_politics</th>\n",
       "      <th>lp_sport</th>\n",
       "      <th>lp_tech</th>\n",
       "    </tr>\n",
       "  </thead>\n",
       "  <tbody>\n",
       "    <tr>\n",
       "      <th>said</th>\n",
       "      <td>-4.303690</td>\n",
       "      <td>-4.799079</td>\n",
       "      <td>-4.081458</td>\n",
       "      <td>-4.792197</td>\n",
       "      <td>-4.479253</td>\n",
       "    </tr>\n",
       "    <tr>\n",
       "      <th>film</th>\n",
       "      <td>-9.249609</td>\n",
       "      <td>-4.887792</td>\n",
       "      <td>-9.472810</td>\n",
       "      <td>-11.490465</td>\n",
       "      <td>-7.465566</td>\n",
       "    </tr>\n",
       "    <tr>\n",
       "      <th>best</th>\n",
       "      <td>-7.745532</td>\n",
       "      <td>-5.087241</td>\n",
       "      <td>-7.814582</td>\n",
       "      <td>-6.500033</td>\n",
       "      <td>-7.564006</td>\n",
       "    </tr>\n",
       "    <tr>\n",
       "      <th>music</th>\n",
       "      <td>-8.913137</td>\n",
       "      <td>-5.400191</td>\n",
       "      <td>-10.453640</td>\n",
       "      <td>-11.490465</td>\n",
       "      <td>-5.828391</td>\n",
       "    </tr>\n",
       "    <tr>\n",
       "      <th>year</th>\n",
       "      <td>-5.160277</td>\n",
       "      <td>-5.437629</td>\n",
       "      <td>-6.181614</td>\n",
       "      <td>-5.496504</td>\n",
       "      <td>-5.958022</td>\n",
       "    </tr>\n",
       "  </tbody>\n",
       "</table>\n",
       "</div>"
      ],
      "text/plain": [
       "       lp_business  lp_entertainment  lp_politics   lp_sport   lp_tech\n",
       "said     -4.303690         -4.799079    -4.081458  -4.792197 -4.479253\n",
       "film     -9.249609         -4.887792    -9.472810 -11.490465 -7.465566\n",
       "best     -7.745532         -5.087241    -7.814582  -6.500033 -7.564006\n",
       "music    -8.913137         -5.400191   -10.453640 -11.490465 -5.828391\n",
       "year     -5.160277         -5.437629    -6.181614  -5.496504 -5.958022"
      ]
     },
     "execution_count": 21,
     "metadata": {},
     "output_type": "execute_result"
    }
   ],
   "source": [
    "nb_words.nlargest(5, 'lp_entertainment')"
   ]
  },
  {
   "cell_type": "markdown",
   "metadata": {},
   "source": [
    "What words have the highest $P(politics|w)$?"
   ]
  },
  {
   "cell_type": "code",
   "execution_count": 22,
   "metadata": {},
   "outputs": [
    {
     "data": {
      "text/html": [
       "<div>\n",
       "<style scoped>\n",
       "    .dataframe tbody tr th:only-of-type {\n",
       "        vertical-align: middle;\n",
       "    }\n",
       "\n",
       "    .dataframe tbody tr th {\n",
       "        vertical-align: top;\n",
       "    }\n",
       "\n",
       "    .dataframe thead th {\n",
       "        text-align: right;\n",
       "    }\n",
       "</style>\n",
       "<table border=\"1\" class=\"dataframe\">\n",
       "  <thead>\n",
       "    <tr style=\"text-align: right;\">\n",
       "      <th></th>\n",
       "      <th>lp_business</th>\n",
       "      <th>lp_entertainment</th>\n",
       "      <th>lp_politics</th>\n",
       "      <th>lp_sport</th>\n",
       "      <th>lp_tech</th>\n",
       "    </tr>\n",
       "  </thead>\n",
       "  <tbody>\n",
       "    <tr>\n",
       "      <th>said</th>\n",
       "      <td>-4.303690</td>\n",
       "      <td>-4.799079</td>\n",
       "      <td>-4.081458</td>\n",
       "      <td>-4.792197</td>\n",
       "      <td>-4.479253</td>\n",
       "    </tr>\n",
       "    <tr>\n",
       "      <th>mr</th>\n",
       "      <td>-5.349659</td>\n",
       "      <td>-6.280396</td>\n",
       "      <td>-4.359318</td>\n",
       "      <td>-8.717876</td>\n",
       "      <td>-5.637997</td>\n",
       "    </tr>\n",
       "    <tr>\n",
       "      <th>labour</th>\n",
       "      <td>-8.507672</td>\n",
       "      <td>-9.733553</td>\n",
       "      <td>-5.130630</td>\n",
       "      <td>-11.490465</td>\n",
       "      <td>-10.525837</td>\n",
       "    </tr>\n",
       "    <tr>\n",
       "      <th>government</th>\n",
       "      <td>-5.939066</td>\n",
       "      <td>-7.909004</td>\n",
       "      <td>-5.180640</td>\n",
       "      <td>-10.797318</td>\n",
       "      <td>-7.774301</td>\n",
       "    </tr>\n",
       "    <tr>\n",
       "      <th>people</th>\n",
       "      <td>-6.676997</td>\n",
       "      <td>-6.155605</td>\n",
       "      <td>-5.333652</td>\n",
       "      <td>-7.270957</td>\n",
       "      <td>-4.936094</td>\n",
       "    </tr>\n",
       "  </tbody>\n",
       "</table>\n",
       "</div>"
      ],
      "text/plain": [
       "            lp_business  lp_entertainment  lp_politics   lp_sport    lp_tech\n",
       "said          -4.303690         -4.799079    -4.081458  -4.792197  -4.479253\n",
       "mr            -5.349659         -6.280396    -4.359318  -8.717876  -5.637997\n",
       "labour        -8.507672         -9.733553    -5.130630 -11.490465 -10.525837\n",
       "government    -5.939066         -7.909004    -5.180640 -10.797318  -7.774301\n",
       "people        -6.676997         -6.155605    -5.333652  -7.270957  -4.936094"
      ]
     },
     "execution_count": 22,
     "metadata": {},
     "output_type": "execute_result"
    }
   ],
   "source": [
    "nb_words.nlargest(5, 'lp_politics')"
   ]
  },
  {
   "cell_type": "markdown",
   "metadata": {},
   "source": [
    "What words have the highest $P(sport|w)$?"
   ]
  },
  {
   "cell_type": "code",
   "execution_count": 23,
   "metadata": {},
   "outputs": [
    {
     "data": {
      "text/html": [
       "<div>\n",
       "<style scoped>\n",
       "    .dataframe tbody tr th:only-of-type {\n",
       "        vertical-align: middle;\n",
       "    }\n",
       "\n",
       "    .dataframe tbody tr th {\n",
       "        vertical-align: top;\n",
       "    }\n",
       "\n",
       "    .dataframe thead th {\n",
       "        text-align: right;\n",
       "    }\n",
       "</style>\n",
       "<table border=\"1\" class=\"dataframe\">\n",
       "  <thead>\n",
       "    <tr style=\"text-align: right;\">\n",
       "      <th></th>\n",
       "      <th>lp_business</th>\n",
       "      <th>lp_entertainment</th>\n",
       "      <th>lp_politics</th>\n",
       "      <th>lp_sport</th>\n",
       "      <th>lp_tech</th>\n",
       "    </tr>\n",
       "  </thead>\n",
       "  <tbody>\n",
       "    <tr>\n",
       "      <th>said</th>\n",
       "      <td>-4.303690</td>\n",
       "      <td>-4.799079</td>\n",
       "      <td>-4.081458</td>\n",
       "      <td>-4.792197</td>\n",
       "      <td>-4.479253</td>\n",
       "    </tr>\n",
       "    <tr>\n",
       "      <th>game</th>\n",
       "      <td>-9.606284</td>\n",
       "      <td>-7.759472</td>\n",
       "      <td>-9.154357</td>\n",
       "      <td>-5.469442</td>\n",
       "      <td>-6.048500</td>\n",
       "    </tr>\n",
       "    <tr>\n",
       "      <th>year</th>\n",
       "      <td>-5.160277</td>\n",
       "      <td>-5.437629</td>\n",
       "      <td>-6.181614</td>\n",
       "      <td>-5.496504</td>\n",
       "      <td>-5.958022</td>\n",
       "    </tr>\n",
       "    <tr>\n",
       "      <th>england</th>\n",
       "      <td>-7.838622</td>\n",
       "      <td>-8.570402</td>\n",
       "      <td>-7.393369</td>\n",
       "      <td>-5.509051</td>\n",
       "      <td>-9.427224</td>\n",
       "    </tr>\n",
       "    <tr>\n",
       "      <th>time</th>\n",
       "      <td>-6.624941</td>\n",
       "      <td>-6.255395</td>\n",
       "      <td>-6.422353</td>\n",
       "      <td>-5.621168</td>\n",
       "      <td>-6.115061</td>\n",
       "    </tr>\n",
       "  </tbody>\n",
       "</table>\n",
       "</div>"
      ],
      "text/plain": [
       "         lp_business  lp_entertainment  lp_politics  lp_sport   lp_tech\n",
       "said       -4.303690         -4.799079    -4.081458 -4.792197 -4.479253\n",
       "game       -9.606284         -7.759472    -9.154357 -5.469442 -6.048500\n",
       "year       -5.160277         -5.437629    -6.181614 -5.496504 -5.958022\n",
       "england    -7.838622         -8.570402    -7.393369 -5.509051 -9.427224\n",
       "time       -6.624941         -6.255395    -6.422353 -5.621168 -6.115061"
      ]
     },
     "execution_count": 23,
     "metadata": {},
     "output_type": "execute_result"
    }
   ],
   "source": [
    "nb_words.nlargest(5, 'lp_sport')"
   ]
  },
  {
   "cell_type": "markdown",
   "metadata": {},
   "source": [
    "What words have the highest $P(tech|w)$?"
   ]
  },
  {
   "cell_type": "code",
   "execution_count": 24,
   "metadata": {},
   "outputs": [
    {
     "data": {
      "text/html": [
       "<div>\n",
       "<style scoped>\n",
       "    .dataframe tbody tr th:only-of-type {\n",
       "        vertical-align: middle;\n",
       "    }\n",
       "\n",
       "    .dataframe tbody tr th {\n",
       "        vertical-align: top;\n",
       "    }\n",
       "\n",
       "    .dataframe thead th {\n",
       "        text-align: right;\n",
       "    }\n",
       "</style>\n",
       "<table border=\"1\" class=\"dataframe\">\n",
       "  <thead>\n",
       "    <tr style=\"text-align: right;\">\n",
       "      <th></th>\n",
       "      <th>lp_business</th>\n",
       "      <th>lp_entertainment</th>\n",
       "      <th>lp_politics</th>\n",
       "      <th>lp_sport</th>\n",
       "      <th>lp_tech</th>\n",
       "    </tr>\n",
       "  </thead>\n",
       "  <tbody>\n",
       "    <tr>\n",
       "      <th>said</th>\n",
       "      <td>-4.303690</td>\n",
       "      <td>-4.799079</td>\n",
       "      <td>-4.081458</td>\n",
       "      <td>-4.792197</td>\n",
       "      <td>-4.479253</td>\n",
       "    </tr>\n",
       "    <tr>\n",
       "      <th>people</th>\n",
       "      <td>-6.676997</td>\n",
       "      <td>-6.155605</td>\n",
       "      <td>-5.333652</td>\n",
       "      <td>-7.270957</td>\n",
       "      <td>-4.936094</td>\n",
       "    </tr>\n",
       "    <tr>\n",
       "      <th>new</th>\n",
       "      <td>-5.714464</td>\n",
       "      <td>-5.786163</td>\n",
       "      <td>-5.705813</td>\n",
       "      <td>-5.985134</td>\n",
       "      <td>-5.549103</td>\n",
       "    </tr>\n",
       "    <tr>\n",
       "      <th>technology</th>\n",
       "      <td>-8.219990</td>\n",
       "      <td>-9.733553</td>\n",
       "      <td>-9.249667</td>\n",
       "      <td>-9.411024</td>\n",
       "      <td>-5.601001</td>\n",
       "    </tr>\n",
       "    <tr>\n",
       "      <th>mr</th>\n",
       "      <td>-5.349659</td>\n",
       "      <td>-6.280396</td>\n",
       "      <td>-4.359318</td>\n",
       "      <td>-8.717876</td>\n",
       "      <td>-5.637997</td>\n",
       "    </tr>\n",
       "  </tbody>\n",
       "</table>\n",
       "</div>"
      ],
      "text/plain": [
       "            lp_business  lp_entertainment  lp_politics  lp_sport   lp_tech\n",
       "said          -4.303690         -4.799079    -4.081458 -4.792197 -4.479253\n",
       "people        -6.676997         -6.155605    -5.333652 -7.270957 -4.936094\n",
       "new           -5.714464         -5.786163    -5.705813 -5.985134 -5.549103\n",
       "technology    -8.219990         -9.733553    -9.249667 -9.411024 -5.601001\n",
       "mr            -5.349659         -6.280396    -4.359318 -8.717876 -5.637997"
      ]
     },
     "execution_count": 24,
     "metadata": {},
     "output_type": "execute_result"
    }
   ],
   "source": [
    "nb_words.nlargest(5, 'lp_tech')"
   ]
  },
  {
   "cell_type": "markdown",
   "metadata": {},
   "source": [
    "What words have the highest *conditional catagory* of spam?  Conditional odds is the conditional probability, turned into odds:\n",
    "\n",
    "$$O(catagory|w) = \\frac{P(catagory|w)}{P(\\neg catagory|w)} = \\frac{P(catagory|w)}{P(other catagories|w)}$$\n",
    "\n",
    "But everything here is *log* probabiltiies, remember? So we will compute log odds:"
   ]
  },
  {
   "cell_type": "markdown",
   "metadata": {},
   "source": [
    "The log odds for business catagory:"
   ]
  },
  {
   "cell_type": "code",
   "execution_count": 25,
   "metadata": {},
   "outputs": [
    {
     "data": {
      "text/html": [
       "<div>\n",
       "<style scoped>\n",
       "    .dataframe tbody tr th:only-of-type {\n",
       "        vertical-align: middle;\n",
       "    }\n",
       "\n",
       "    .dataframe tbody tr th {\n",
       "        vertical-align: top;\n",
       "    }\n",
       "\n",
       "    .dataframe thead th {\n",
       "        text-align: right;\n",
       "    }\n",
       "</style>\n",
       "<table border=\"1\" class=\"dataframe\">\n",
       "  <thead>\n",
       "    <tr style=\"text-align: right;\">\n",
       "      <th></th>\n",
       "      <th>lp_business</th>\n",
       "      <th>lp_entertainment</th>\n",
       "      <th>lp_politics</th>\n",
       "      <th>lp_sport</th>\n",
       "      <th>lp_tech</th>\n",
       "      <th>log_odds</th>\n",
       "    </tr>\n",
       "  </thead>\n",
       "  <tbody>\n",
       "    <tr>\n",
       "      <th>yukos</th>\n",
       "      <td>-6.617720</td>\n",
       "      <td>-11.342991</td>\n",
       "      <td>-11.552252</td>\n",
       "      <td>-11.490465</td>\n",
       "      <td>-11.624449</td>\n",
       "      <td>39.392437</td>\n",
       "    </tr>\n",
       "    <tr>\n",
       "      <th>gm</th>\n",
       "      <td>-7.133354</td>\n",
       "      <td>-11.342991</td>\n",
       "      <td>-11.552252</td>\n",
       "      <td>-11.490465</td>\n",
       "      <td>-11.624449</td>\n",
       "      <td>38.876803</td>\n",
       "    </tr>\n",
       "    <tr>\n",
       "      <th>fiat</th>\n",
       "      <td>-7.261735</td>\n",
       "      <td>-11.342991</td>\n",
       "      <td>-11.552252</td>\n",
       "      <td>-11.490465</td>\n",
       "      <td>-11.624449</td>\n",
       "      <td>38.748422</td>\n",
       "    </tr>\n",
       "    <tr>\n",
       "      <th>gazprom</th>\n",
       "      <td>-7.347502</td>\n",
       "      <td>-11.342991</td>\n",
       "      <td>-11.552252</td>\n",
       "      <td>-11.490465</td>\n",
       "      <td>-11.624449</td>\n",
       "      <td>38.662655</td>\n",
       "    </tr>\n",
       "    <tr>\n",
       "      <th>lse</th>\n",
       "      <td>-7.457850</td>\n",
       "      <td>-11.342991</td>\n",
       "      <td>-11.552252</td>\n",
       "      <td>-11.490465</td>\n",
       "      <td>-11.624449</td>\n",
       "      <td>38.552307</td>\n",
       "    </tr>\n",
       "  </tbody>\n",
       "</table>\n",
       "</div>"
      ],
      "text/plain": [
       "         lp_business  lp_entertainment  lp_politics   lp_sport    lp_tech  \\\n",
       "yukos      -6.617720        -11.342991   -11.552252 -11.490465 -11.624449   \n",
       "gm         -7.133354        -11.342991   -11.552252 -11.490465 -11.624449   \n",
       "fiat       -7.261735        -11.342991   -11.552252 -11.490465 -11.624449   \n",
       "gazprom    -7.347502        -11.342991   -11.552252 -11.490465 -11.624449   \n",
       "lse        -7.457850        -11.342991   -11.552252 -11.490465 -11.624449   \n",
       "\n",
       "          log_odds  \n",
       "yukos    39.392437  \n",
       "gm       38.876803  \n",
       "fiat     38.748422  \n",
       "gazprom  38.662655  \n",
       "lse      38.552307  "
      ]
     },
     "execution_count": 25,
     "metadata": {},
     "output_type": "execute_result"
    }
   ],
   "source": [
    "nb_words['log_odds'] = nb_words['lp_business'] - (nb_words['lp_entertainment'] + nb_words['lp_politics'] + nb_words['lp_sport'] + nb_words['lp_tech'])\n",
    "nb_words.nlargest(5, 'log_odds')"
   ]
  },
  {
   "cell_type": "markdown",
   "metadata": {},
   "source": [
    "The log odds for entertainment catagory:"
   ]
  },
  {
   "cell_type": "code",
   "execution_count": 26,
   "metadata": {},
   "outputs": [
    {
     "data": {
      "text/html": [
       "<div>\n",
       "<style scoped>\n",
       "    .dataframe tbody tr th:only-of-type {\n",
       "        vertical-align: middle;\n",
       "    }\n",
       "\n",
       "    .dataframe tbody tr th {\n",
       "        vertical-align: top;\n",
       "    }\n",
       "\n",
       "    .dataframe thead th {\n",
       "        text-align: right;\n",
       "    }\n",
       "</style>\n",
       "<table border=\"1\" class=\"dataframe\">\n",
       "  <thead>\n",
       "    <tr style=\"text-align: right;\">\n",
       "      <th></th>\n",
       "      <th>lp_business</th>\n",
       "      <th>lp_entertainment</th>\n",
       "      <th>lp_politics</th>\n",
       "      <th>lp_sport</th>\n",
       "      <th>lp_tech</th>\n",
       "      <th>log_odds</th>\n",
       "    </tr>\n",
       "  </thead>\n",
       "  <tbody>\n",
       "    <tr>\n",
       "      <th>actress</th>\n",
       "      <td>-11.552194</td>\n",
       "      <td>-6.445151</td>\n",
       "      <td>-11.552252</td>\n",
       "      <td>-11.490465</td>\n",
       "      <td>-11.624449</td>\n",
       "      <td>39.774209</td>\n",
       "    </tr>\n",
       "    <tr>\n",
       "      <th>festival</th>\n",
       "      <td>-11.552194</td>\n",
       "      <td>-6.747871</td>\n",
       "      <td>-11.552252</td>\n",
       "      <td>-11.490465</td>\n",
       "      <td>-11.624449</td>\n",
       "      <td>39.471489</td>\n",
       "    </tr>\n",
       "    <tr>\n",
       "      <th>aviator</th>\n",
       "      <td>-11.552194</td>\n",
       "      <td>-6.799696</td>\n",
       "      <td>-11.552252</td>\n",
       "      <td>-11.490465</td>\n",
       "      <td>-11.624449</td>\n",
       "      <td>39.419664</td>\n",
       "    </tr>\n",
       "    <tr>\n",
       "      <th>oscar</th>\n",
       "      <td>-11.552194</td>\n",
       "      <td>-6.563867</td>\n",
       "      <td>-10.859105</td>\n",
       "      <td>-11.490465</td>\n",
       "      <td>-11.624449</td>\n",
       "      <td>38.962346</td>\n",
       "    </tr>\n",
       "    <tr>\n",
       "      <th>foxx</th>\n",
       "      <td>-11.552194</td>\n",
       "      <td>-7.299940</td>\n",
       "      <td>-11.552252</td>\n",
       "      <td>-11.490465</td>\n",
       "      <td>-11.624449</td>\n",
       "      <td>38.919421</td>\n",
       "    </tr>\n",
       "  </tbody>\n",
       "</table>\n",
       "</div>"
      ],
      "text/plain": [
       "          lp_business  lp_entertainment  lp_politics   lp_sport    lp_tech  \\\n",
       "actress    -11.552194         -6.445151   -11.552252 -11.490465 -11.624449   \n",
       "festival   -11.552194         -6.747871   -11.552252 -11.490465 -11.624449   \n",
       "aviator    -11.552194         -6.799696   -11.552252 -11.490465 -11.624449   \n",
       "oscar      -11.552194         -6.563867   -10.859105 -11.490465 -11.624449   \n",
       "foxx       -11.552194         -7.299940   -11.552252 -11.490465 -11.624449   \n",
       "\n",
       "           log_odds  \n",
       "actress   39.774209  \n",
       "festival  39.471489  \n",
       "aviator   39.419664  \n",
       "oscar     38.962346  \n",
       "foxx      38.919421  "
      ]
     },
     "execution_count": 26,
     "metadata": {},
     "output_type": "execute_result"
    }
   ],
   "source": [
    "nb_words['log_odds'] = nb_words['lp_entertainment'] - (nb_words['lp_business'] + nb_words['lp_politics'] + nb_words['lp_sport'] + nb_words['lp_tech'])\n",
    "nb_words.nlargest(5, 'log_odds')"
   ]
  },
  {
   "cell_type": "markdown",
   "metadata": {},
   "source": [
    "The log odds for politics catagory:"
   ]
  },
  {
   "cell_type": "code",
   "execution_count": 27,
   "metadata": {},
   "outputs": [
    {
     "data": {
      "text/html": [
       "<div>\n",
       "<style scoped>\n",
       "    .dataframe tbody tr th:only-of-type {\n",
       "        vertical-align: middle;\n",
       "    }\n",
       "\n",
       "    .dataframe tbody tr th {\n",
       "        vertical-align: top;\n",
       "    }\n",
       "\n",
       "    .dataframe thead th {\n",
       "        text-align: right;\n",
       "    }\n",
       "</style>\n",
       "<table border=\"1\" class=\"dataframe\">\n",
       "  <thead>\n",
       "    <tr style=\"text-align: right;\">\n",
       "      <th></th>\n",
       "      <th>lp_business</th>\n",
       "      <th>lp_entertainment</th>\n",
       "      <th>lp_politics</th>\n",
       "      <th>lp_sport</th>\n",
       "      <th>lp_tech</th>\n",
       "      <th>log_odds</th>\n",
       "    </tr>\n",
       "  </thead>\n",
       "  <tbody>\n",
       "    <tr>\n",
       "      <th>tory</th>\n",
       "      <td>-11.552194</td>\n",
       "      <td>-11.342991</td>\n",
       "      <td>-6.154089</td>\n",
       "      <td>-11.490465</td>\n",
       "      <td>-11.624449</td>\n",
       "      <td>39.856010</td>\n",
       "    </tr>\n",
       "    <tr>\n",
       "      <th>tories</th>\n",
       "      <td>-11.552194</td>\n",
       "      <td>-11.342991</td>\n",
       "      <td>-6.342766</td>\n",
       "      <td>-11.490465</td>\n",
       "      <td>-11.624449</td>\n",
       "      <td>39.667333</td>\n",
       "    </tr>\n",
       "    <tr>\n",
       "      <th>lib</th>\n",
       "      <td>-11.552194</td>\n",
       "      <td>-11.342991</td>\n",
       "      <td>-6.568645</td>\n",
       "      <td>-11.490465</td>\n",
       "      <td>-11.624449</td>\n",
       "      <td>39.441454</td>\n",
       "    </tr>\n",
       "    <tr>\n",
       "      <th>ukip</th>\n",
       "      <td>-11.552194</td>\n",
       "      <td>-11.342991</td>\n",
       "      <td>-6.748231</td>\n",
       "      <td>-11.490465</td>\n",
       "      <td>-11.624449</td>\n",
       "      <td>39.261868</td>\n",
       "    </tr>\n",
       "    <tr>\n",
       "      <th>kilroy</th>\n",
       "      <td>-11.552194</td>\n",
       "      <td>-11.342991</td>\n",
       "      <td>-6.851772</td>\n",
       "      <td>-11.490465</td>\n",
       "      <td>-11.624449</td>\n",
       "      <td>39.158328</td>\n",
       "    </tr>\n",
       "  </tbody>\n",
       "</table>\n",
       "</div>"
      ],
      "text/plain": [
       "        lp_business  lp_entertainment  lp_politics   lp_sport    lp_tech  \\\n",
       "tory     -11.552194        -11.342991    -6.154089 -11.490465 -11.624449   \n",
       "tories   -11.552194        -11.342991    -6.342766 -11.490465 -11.624449   \n",
       "lib      -11.552194        -11.342991    -6.568645 -11.490465 -11.624449   \n",
       "ukip     -11.552194        -11.342991    -6.748231 -11.490465 -11.624449   \n",
       "kilroy   -11.552194        -11.342991    -6.851772 -11.490465 -11.624449   \n",
       "\n",
       "         log_odds  \n",
       "tory    39.856010  \n",
       "tories  39.667333  \n",
       "lib     39.441454  \n",
       "ukip    39.261868  \n",
       "kilroy  39.158328  "
      ]
     },
     "execution_count": 27,
     "metadata": {},
     "output_type": "execute_result"
    }
   ],
   "source": [
    "nb_words['log_odds'] = nb_words['lp_politics'] - (nb_words['lp_business'] + nb_words['lp_entertainment'] + nb_words['lp_sport'] + nb_words['lp_tech'])\n",
    "nb_words.nlargest(5, 'log_odds')"
   ]
  },
  {
   "cell_type": "markdown",
   "metadata": {},
   "source": [
    "The log odds for sport catagory:"
   ]
  },
  {
   "cell_type": "code",
   "execution_count": 28,
   "metadata": {},
   "outputs": [
    {
     "data": {
      "text/html": [
       "<div>\n",
       "<style scoped>\n",
       "    .dataframe tbody tr th:only-of-type {\n",
       "        vertical-align: middle;\n",
       "    }\n",
       "\n",
       "    .dataframe tbody tr th {\n",
       "        vertical-align: top;\n",
       "    }\n",
       "\n",
       "    .dataframe thead th {\n",
       "        text-align: right;\n",
       "    }\n",
       "</style>\n",
       "<table border=\"1\" class=\"dataframe\">\n",
       "  <thead>\n",
       "    <tr style=\"text-align: right;\">\n",
       "      <th></th>\n",
       "      <th>lp_business</th>\n",
       "      <th>lp_entertainment</th>\n",
       "      <th>lp_politics</th>\n",
       "      <th>lp_sport</th>\n",
       "      <th>lp_tech</th>\n",
       "      <th>log_odds</th>\n",
       "    </tr>\n",
       "  </thead>\n",
       "  <tbody>\n",
       "    <tr>\n",
       "      <th>roddick</th>\n",
       "      <td>-11.552194</td>\n",
       "      <td>-11.342991</td>\n",
       "      <td>-11.552252</td>\n",
       "      <td>-6.745533</td>\n",
       "      <td>-11.624449</td>\n",
       "      <td>39.326353</td>\n",
       "    </tr>\n",
       "    <tr>\n",
       "      <th>championships</th>\n",
       "      <td>-11.552194</td>\n",
       "      <td>-11.342991</td>\n",
       "      <td>-11.552252</td>\n",
       "      <td>-7.213799</td>\n",
       "      <td>-11.624449</td>\n",
       "      <td>38.858087</td>\n",
       "    </tr>\n",
       "    <tr>\n",
       "      <th>referee</th>\n",
       "      <td>-11.552194</td>\n",
       "      <td>-11.342991</td>\n",
       "      <td>-11.552252</td>\n",
       "      <td>-7.256359</td>\n",
       "      <td>-11.624449</td>\n",
       "      <td>38.815527</td>\n",
       "    </tr>\n",
       "    <tr>\n",
       "      <th>mourinho</th>\n",
       "      <td>-11.552194</td>\n",
       "      <td>-11.342991</td>\n",
       "      <td>-11.552252</td>\n",
       "      <td>-7.347330</td>\n",
       "      <td>-11.624449</td>\n",
       "      <td>38.724556</td>\n",
       "    </tr>\n",
       "    <tr>\n",
       "      <th>nadal</th>\n",
       "      <td>-11.552194</td>\n",
       "      <td>-11.342991</td>\n",
       "      <td>-11.552252</td>\n",
       "      <td>-7.363331</td>\n",
       "      <td>-11.624449</td>\n",
       "      <td>38.708555</td>\n",
       "    </tr>\n",
       "  </tbody>\n",
       "</table>\n",
       "</div>"
      ],
      "text/plain": [
       "               lp_business  lp_entertainment  lp_politics  lp_sport  \\\n",
       "roddick         -11.552194        -11.342991   -11.552252 -6.745533   \n",
       "championships   -11.552194        -11.342991   -11.552252 -7.213799   \n",
       "referee         -11.552194        -11.342991   -11.552252 -7.256359   \n",
       "mourinho        -11.552194        -11.342991   -11.552252 -7.347330   \n",
       "nadal           -11.552194        -11.342991   -11.552252 -7.363331   \n",
       "\n",
       "                 lp_tech   log_odds  \n",
       "roddick       -11.624449  39.326353  \n",
       "championships -11.624449  38.858087  \n",
       "referee       -11.624449  38.815527  \n",
       "mourinho      -11.624449  38.724556  \n",
       "nadal         -11.624449  38.708555  "
      ]
     },
     "execution_count": 28,
     "metadata": {},
     "output_type": "execute_result"
    }
   ],
   "source": [
    "nb_words['log_odds'] = nb_words['lp_sport'] - (nb_words['lp_business'] + nb_words['lp_entertainment'] + nb_words['lp_politics'] + nb_words['lp_tech'])\n",
    "nb_words.nlargest(5, 'log_odds')"
   ]
  },
  {
   "cell_type": "markdown",
   "metadata": {},
   "source": [
    "The log odds for tech catagory:"
   ]
  },
  {
   "cell_type": "code",
   "execution_count": 29,
   "metadata": {},
   "outputs": [
    {
     "data": {
      "text/html": [
       "<div>\n",
       "<style scoped>\n",
       "    .dataframe tbody tr th:only-of-type {\n",
       "        vertical-align: middle;\n",
       "    }\n",
       "\n",
       "    .dataframe tbody tr th {\n",
       "        vertical-align: top;\n",
       "    }\n",
       "\n",
       "    .dataframe thead th {\n",
       "        text-align: right;\n",
       "    }\n",
       "</style>\n",
       "<table border=\"1\" class=\"dataframe\">\n",
       "  <thead>\n",
       "    <tr style=\"text-align: right;\">\n",
       "      <th></th>\n",
       "      <th>lp_business</th>\n",
       "      <th>lp_entertainment</th>\n",
       "      <th>lp_politics</th>\n",
       "      <th>lp_sport</th>\n",
       "      <th>lp_tech</th>\n",
       "      <th>log_odds</th>\n",
       "    </tr>\n",
       "  </thead>\n",
       "  <tbody>\n",
       "    <tr>\n",
       "      <th>spam</th>\n",
       "      <td>-11.552194</td>\n",
       "      <td>-11.342991</td>\n",
       "      <td>-11.552252</td>\n",
       "      <td>-11.490465</td>\n",
       "      <td>-7.029329</td>\n",
       "      <td>38.908573</td>\n",
       "    </tr>\n",
       "    <tr>\n",
       "      <th>portable</th>\n",
       "      <td>-11.552194</td>\n",
       "      <td>-11.342991</td>\n",
       "      <td>-11.552252</td>\n",
       "      <td>-11.490465</td>\n",
       "      <td>-7.158541</td>\n",
       "      <td>38.779361</td>\n",
       "    </tr>\n",
       "    <tr>\n",
       "      <th>apple</th>\n",
       "      <td>-11.552194</td>\n",
       "      <td>-11.342991</td>\n",
       "      <td>-11.552252</td>\n",
       "      <td>-10.797318</td>\n",
       "      <td>-6.555545</td>\n",
       "      <td>38.689210</td>\n",
       "    </tr>\n",
       "    <tr>\n",
       "      <th>mobiles</th>\n",
       "      <td>-11.552194</td>\n",
       "      <td>-11.342991</td>\n",
       "      <td>-11.552252</td>\n",
       "      <td>-11.490465</td>\n",
       "      <td>-7.293716</td>\n",
       "      <td>38.644187</td>\n",
       "    </tr>\n",
       "    <tr>\n",
       "      <th>gadgets</th>\n",
       "      <td>-11.552194</td>\n",
       "      <td>-11.342991</td>\n",
       "      <td>-11.552252</td>\n",
       "      <td>-11.490465</td>\n",
       "      <td>-7.320384</td>\n",
       "      <td>38.617518</td>\n",
       "    </tr>\n",
       "  </tbody>\n",
       "</table>\n",
       "</div>"
      ],
      "text/plain": [
       "          lp_business  lp_entertainment  lp_politics   lp_sport   lp_tech  \\\n",
       "spam       -11.552194        -11.342991   -11.552252 -11.490465 -7.029329   \n",
       "portable   -11.552194        -11.342991   -11.552252 -11.490465 -7.158541   \n",
       "apple      -11.552194        -11.342991   -11.552252 -10.797318 -6.555545   \n",
       "mobiles    -11.552194        -11.342991   -11.552252 -11.490465 -7.293716   \n",
       "gadgets    -11.552194        -11.342991   -11.552252 -11.490465 -7.320384   \n",
       "\n",
       "           log_odds  \n",
       "spam      38.908573  \n",
       "portable  38.779361  \n",
       "apple     38.689210  \n",
       "mobiles   38.644187  \n",
       "gadgets   38.617518  "
      ]
     },
     "execution_count": 29,
     "metadata": {},
     "output_type": "execute_result"
    }
   ],
   "source": [
    "nb_words['log_odds'] = nb_words['lp_tech'] - (nb_words['lp_business'] + nb_words['lp_entertainment'] + nb_words['lp_politics'] + nb_words['lp_sport'])\n",
    "nb_words.nlargest(5, 'log_odds')"
   ]
  },
  {
   "cell_type": "markdown",
   "metadata": {},
   "source": [
    "Another way to classify is with “k nearest neighbors”: to classify a document, find the closest data points and use the class most of them have. The KNeighborsClassifier in scikit-learn does this. Train one of these classifiers (with TF-IDF vectors), using 5 neighbors, and measure its accuracy on both training and test data."
   ]
  },
  {
   "cell_type": "markdown",
   "metadata": {},
   "source": [
    "Create KNN classifier"
   ]
  },
  {
   "cell_type": "code",
   "execution_count": 30,
   "metadata": {},
   "outputs": [],
   "source": [
    "knn = KNeighborsClassifier(n_neighbors = 5)"
   ]
  },
  {
   "cell_type": "markdown",
   "metadata": {},
   "source": [
    "Fit the classifier to the data"
   ]
  },
  {
   "cell_type": "code",
   "execution_count": 31,
   "metadata": {},
   "outputs": [
    {
     "data": {
      "text/plain": [
       "KNeighborsClassifier(algorithm='auto', leaf_size=30, metric='minkowski',\n",
       "                     metric_params=None, n_jobs=None, n_neighbors=5, p=2,\n",
       "                     weights='uniform')"
      ]
     },
     "execution_count": 31,
     "metadata": {},
     "output_type": "execute_result"
    }
   ],
   "source": [
    "knn.fit(train_Tfidf, articles_train['category'])"
   ]
  },
  {
   "cell_type": "code",
   "execution_count": 32,
   "metadata": {
    "scrolled": false
   },
   "outputs": [],
   "source": [
    "#knn.feature_log_prob_"
   ]
  },
  {
   "cell_type": "code",
   "execution_count": 33,
   "metadata": {},
   "outputs": [
    {
     "data": {
      "text/html": [
       "<div>\n",
       "<style scoped>\n",
       "    .dataframe tbody tr th:only-of-type {\n",
       "        vertical-align: middle;\n",
       "    }\n",
       "\n",
       "    .dataframe tbody tr th {\n",
       "        vertical-align: top;\n",
       "    }\n",
       "\n",
       "    .dataframe thead th {\n",
       "        text-align: right;\n",
       "    }\n",
       "</style>\n",
       "<table border=\"1\" class=\"dataframe\">\n",
       "  <thead>\n",
       "    <tr style=\"text-align: right;\">\n",
       "      <th></th>\n",
       "      <th>category</th>\n",
       "      <th>file</th>\n",
       "      <th>text</th>\n",
       "      <th>value</th>\n",
       "    </tr>\n",
       "  </thead>\n",
       "  <tbody>\n",
       "    <tr>\n",
       "      <th>0</th>\n",
       "      <td>business</td>\n",
       "      <td>001.txt</td>\n",
       "      <td>Ad sales boost Time Warner profit\\n\\nQuarterly...</td>\n",
       "      <td>1</td>\n",
       "    </tr>\n",
       "    <tr>\n",
       "      <th>1</th>\n",
       "      <td>business</td>\n",
       "      <td>002.txt</td>\n",
       "      <td>Dollar gains on Greenspan speech\\n\\nThe dollar...</td>\n",
       "      <td>1</td>\n",
       "    </tr>\n",
       "    <tr>\n",
       "      <th>2</th>\n",
       "      <td>business</td>\n",
       "      <td>003.txt</td>\n",
       "      <td>Yukos unit buyer faces loan claim\\n\\nThe owner...</td>\n",
       "      <td>1</td>\n",
       "    </tr>\n",
       "    <tr>\n",
       "      <th>4</th>\n",
       "      <td>business</td>\n",
       "      <td>005.txt</td>\n",
       "      <td>Pernod takeover talk lifts Domecq\\n\\nShares in...</td>\n",
       "      <td>1</td>\n",
       "    </tr>\n",
       "    <tr>\n",
       "      <th>5</th>\n",
       "      <td>business</td>\n",
       "      <td>006.txt</td>\n",
       "      <td>Japan narrowly escapes recession\\n\\nJapan's ec...</td>\n",
       "      <td>1</td>\n",
       "    </tr>\n",
       "  </tbody>\n",
       "</table>\n",
       "</div>"
      ],
      "text/plain": [
       "   category     file                                               text  value\n",
       "0  business  001.txt  Ad sales boost Time Warner profit\\n\\nQuarterly...      1\n",
       "1  business  002.txt  Dollar gains on Greenspan speech\\n\\nThe dollar...      1\n",
       "2  business  003.txt  Yukos unit buyer faces loan claim\\n\\nThe owner...      1\n",
       "4  business  005.txt  Pernod takeover talk lifts Domecq\\n\\nShares in...      1\n",
       "5  business  006.txt  Japan narrowly escapes recession\\n\\nJapan's ec...      1"
      ]
     },
     "execution_count": 33,
     "metadata": {},
     "output_type": "execute_result"
    }
   ],
   "source": [
    "articles_train.head()"
   ]
  },
  {
   "cell_type": "markdown",
   "metadata": {},
   "source": [
    "What is the training accuracy of this classifier?"
   ]
  },
  {
   "cell_type": "code",
   "execution_count": 34,
   "metadata": {},
   "outputs": [
    {
     "data": {
      "text/plain": [
       "array(['business', 'business', 'business', 'business', 'business'],\n",
       "      dtype=object)"
      ]
     },
     "execution_count": 34,
     "metadata": {},
     "output_type": "execute_result"
    }
   ],
   "source": [
    "knn.predict(train_Tfidf)[0:5]"
   ]
  },
  {
   "cell_type": "code",
   "execution_count": 35,
   "metadata": {},
   "outputs": [
    {
     "data": {
      "text/plain": [
       "0.9584269662921349"
      ]
     },
     "execution_count": 35,
     "metadata": {},
     "output_type": "execute_result"
    }
   ],
   "source": [
    "knn.score(train_Tfidf, articles_train['category'])"
   ]
  },
  {
   "cell_type": "markdown",
   "metadata": {},
   "source": [
    "Now that the model is trained, we can use the ‘predict’ function on our model to make predictions on our test data."
   ]
  },
  {
   "cell_type": "code",
   "execution_count": 36,
   "metadata": {},
   "outputs": [
    {
     "data": {
      "text/plain": [
       "array(['tech', 'business', 'sport', 'business', 'sport'], dtype=object)"
      ]
     },
     "execution_count": 36,
     "metadata": {},
     "output_type": "execute_result"
    }
   ],
   "source": [
    "knn.predict(test_Tfidf)[0:5]"
   ]
  },
  {
   "cell_type": "code",
   "execution_count": 37,
   "metadata": {},
   "outputs": [
    {
     "data": {
      "text/plain": [
       "0.9550561797752809"
      ]
     },
     "execution_count": 37,
     "metadata": {},
     "output_type": "execute_result"
    }
   ],
   "source": [
    "knn.score(test_Tfidf, articles_test['category'])"
   ]
  },
  {
   "cell_type": "markdown",
   "metadata": {},
   "source": [
    "Since test accurecy is lower than training accurecy we can assume that the classifier is not overfitting."
   ]
  },
  {
   "cell_type": "markdown",
   "metadata": {},
   "source": [
    "According to the obtained accurecy from both classifiers it is evident that the naive bays classifier using count vectorizer (bag of words) is more accuretly predcting diffrent catgories compared to KNN classifier using Tfidf data.   "
   ]
  },
  {
   "cell_type": "markdown",
   "metadata": {},
   "source": [
    "## Part 3: Clustering"
   ]
  },
  {
   "cell_type": "markdown",
   "metadata": {},
   "source": [
    "So far our machine learning has been supervised: we have the labels. We can also do unsupervised learning, where we learn patterns from the data without labels. One such technique is clustering: putting objects (such as documents) into groups, using only the features in the documents and not using external group labels.\n",
    "\n",
    "`K-means` is a simple way of clustering a group of data points into k clusters. KMeans in scikit-learn implements this; after training, its predict method outputs cluster numbers for data points - this is how you will get the clusters. It’s like the classifier output, except cluster numbers. The most important parameter to KMeans is the number of clusters to find - it cannot do that on its own.\n"
   ]
  },
  {
   "cell_type": "markdown",
   "metadata": {},
   "source": [
    "1.\tFit a K-means model with 5 clusters to your data (using the TF-IDF matrix), and get the cluster numbers for your training data."
   ]
  },
  {
   "cell_type": "markdown",
   "metadata": {},
   "source": [
    "2.\tFor each cluster, show the distribution of document categories (from the original labels) in that cluster. This should be 5 bar plots (in a facet grid), each of which has the group/class on the x axis and the number of documents in that cluster with that category on the y axis."
   ]
  },
  {
   "cell_type": "markdown",
   "metadata": {},
   "source": [
    "Data pre processing "
   ]
  },
  {
   "cell_type": "code",
   "execution_count": 40,
   "metadata": {},
   "outputs": [
    {
     "data": {
      "text/plain": [
       "<1780x26679 sparse matrix of type '<class 'numpy.float64'>'\n",
       "\twith 259693 stored elements in Compressed Sparse Row format>"
      ]
     },
     "execution_count": 40,
     "metadata": {},
     "output_type": "execute_result"
    }
   ],
   "source": [
    "train_Tfidf"
   ]
  },
  {
   "cell_type": "code",
   "execution_count": 41,
   "metadata": {},
   "outputs": [],
   "source": [
    "kmeans = KMeans(5, n_jobs=2)\n",
    "mks = kmeans.fit_transform(train_Tfidf)"
   ]
  },
  {
   "cell_type": "code",
   "execution_count": 44,
   "metadata": {},
   "outputs": [
    {
     "data": {
      "text/html": [
       "<div>\n",
       "<style scoped>\n",
       "    .dataframe tbody tr th:only-of-type {\n",
       "        vertical-align: middle;\n",
       "    }\n",
       "\n",
       "    .dataframe tbody tr th {\n",
       "        vertical-align: top;\n",
       "    }\n",
       "\n",
       "    .dataframe thead th {\n",
       "        text-align: right;\n",
       "    }\n",
       "</style>\n",
       "<table border=\"1\" class=\"dataframe\">\n",
       "  <thead>\n",
       "    <tr style=\"text-align: right;\">\n",
       "      <th></th>\n",
       "      <th>0</th>\n",
       "      <th>1</th>\n",
       "      <th>2</th>\n",
       "      <th>3</th>\n",
       "      <th>4</th>\n",
       "    </tr>\n",
       "  </thead>\n",
       "  <tbody>\n",
       "    <tr>\n",
       "      <th>0</th>\n",
       "      <td>0.980179</td>\n",
       "      <td>1.001297</td>\n",
       "      <td>1.008238</td>\n",
       "      <td>1.038816</td>\n",
       "      <td>0.997430</td>\n",
       "    </tr>\n",
       "    <tr>\n",
       "      <th>1</th>\n",
       "      <td>0.971190</td>\n",
       "      <td>1.005633</td>\n",
       "      <td>1.005110</td>\n",
       "      <td>1.024176</td>\n",
       "      <td>1.007415</td>\n",
       "    </tr>\n",
       "    <tr>\n",
       "      <th>2</th>\n",
       "      <td>0.985928</td>\n",
       "      <td>1.011584</td>\n",
       "      <td>1.013153</td>\n",
       "      <td>1.037637</td>\n",
       "      <td>1.014600</td>\n",
       "    </tr>\n",
       "    <tr>\n",
       "      <th>4</th>\n",
       "      <td>0.997605</td>\n",
       "      <td>1.014645</td>\n",
       "      <td>1.014491</td>\n",
       "      <td>1.045925</td>\n",
       "      <td>1.018149</td>\n",
       "    </tr>\n",
       "    <tr>\n",
       "      <th>5</th>\n",
       "      <td>0.982792</td>\n",
       "      <td>1.011341</td>\n",
       "      <td>1.011457</td>\n",
       "      <td>1.036877</td>\n",
       "      <td>1.010464</td>\n",
       "    </tr>\n",
       "  </tbody>\n",
       "</table>\n",
       "</div>"
      ],
      "text/plain": [
       "          0         1         2         3         4\n",
       "0  0.980179  1.001297  1.008238  1.038816  0.997430\n",
       "1  0.971190  1.005633  1.005110  1.024176  1.007415\n",
       "2  0.985928  1.011584  1.013153  1.037637  1.014600\n",
       "4  0.997605  1.014645  1.014491  1.045925  1.018149\n",
       "5  0.982792  1.011341  1.011457  1.036877  1.010464"
      ]
     },
     "execution_count": 44,
     "metadata": {},
     "output_type": "execute_result"
    }
   ],
   "source": [
    "news_cs = pd.DataFrame(mks, index=articles_train.index)\n",
    "news_cs.head()"
   ]
  },
  {
   "cell_type": "markdown",
   "metadata": {},
   "source": [
    "Now lets look at the clusters!"
   ]
  },
  {
   "cell_type": "markdown",
   "metadata": {},
   "source": [
    "Cluster 1:"
   ]
  },
  {
   "cell_type": "code",
   "execution_count": 68,
   "metadata": {
    "scrolled": false
   },
   "outputs": [
    {
     "data": {
      "text/html": [
       "<div>\n",
       "<style scoped>\n",
       "    .dataframe tbody tr th:only-of-type {\n",
       "        vertical-align: middle;\n",
       "    }\n",
       "\n",
       "    .dataframe tbody tr th {\n",
       "        vertical-align: top;\n",
       "    }\n",
       "\n",
       "    .dataframe thead th {\n",
       "        text-align: right;\n",
       "    }\n",
       "</style>\n",
       "<table border=\"1\" class=\"dataframe\">\n",
       "  <thead>\n",
       "    <tr style=\"text-align: right;\">\n",
       "      <th></th>\n",
       "      <th>distance</th>\n",
       "      <th>category</th>\n",
       "      <th>file</th>\n",
       "      <th>text</th>\n",
       "      <th>value</th>\n",
       "    </tr>\n",
       "  </thead>\n",
       "  <tbody>\n",
       "    <tr>\n",
       "      <th>100</th>\n",
       "      <td>0.955254</td>\n",
       "      <td>business</td>\n",
       "      <td>101.txt</td>\n",
       "      <td>Australia rates at four year high\\n\\nAustralia...</td>\n",
       "      <td>1</td>\n",
       "    </tr>\n",
       "    <tr>\n",
       "      <th>506</th>\n",
       "      <td>0.959147</td>\n",
       "      <td>business</td>\n",
       "      <td>507.txt</td>\n",
       "      <td>UK economy ends year with spurt\\n\\nThe UK econ...</td>\n",
       "      <td>1</td>\n",
       "    </tr>\n",
       "    <tr>\n",
       "      <th>289</th>\n",
       "      <td>0.959399</td>\n",
       "      <td>business</td>\n",
       "      <td>290.txt</td>\n",
       "      <td>Bank holds interest rate at 4.75%\\n\\nThe Bank ...</td>\n",
       "      <td>1</td>\n",
       "    </tr>\n",
       "    <tr>\n",
       "      <th>437</th>\n",
       "      <td>0.959701</td>\n",
       "      <td>business</td>\n",
       "      <td>438.txt</td>\n",
       "      <td>UK interest rates held at 4.75%\\n\\nThe Bank of...</td>\n",
       "      <td>1</td>\n",
       "    </tr>\n",
       "    <tr>\n",
       "      <th>415</th>\n",
       "      <td>0.959864</td>\n",
       "      <td>business</td>\n",
       "      <td>416.txt</td>\n",
       "      <td>Steady job growth continues in US\\n\\nThe US cr...</td>\n",
       "      <td>1</td>\n",
       "    </tr>\n",
       "    <tr>\n",
       "      <th>120</th>\n",
       "      <td>0.959899</td>\n",
       "      <td>business</td>\n",
       "      <td>121.txt</td>\n",
       "      <td>US interest rates increased to 2%\\n\\nUS intere...</td>\n",
       "      <td>1</td>\n",
       "    </tr>\n",
       "    <tr>\n",
       "      <th>164</th>\n",
       "      <td>0.960104</td>\n",
       "      <td>business</td>\n",
       "      <td>165.txt</td>\n",
       "      <td>Consumer spending lifts US growth\\n\\nUS econom...</td>\n",
       "      <td>1</td>\n",
       "    </tr>\n",
       "    <tr>\n",
       "      <th>492</th>\n",
       "      <td>0.960521</td>\n",
       "      <td>business</td>\n",
       "      <td>493.txt</td>\n",
       "      <td>China continues rapid growth\\n\\nChina's econom...</td>\n",
       "      <td>1</td>\n",
       "    </tr>\n",
       "    <tr>\n",
       "      <th>257</th>\n",
       "      <td>0.960801</td>\n",
       "      <td>business</td>\n",
       "      <td>258.txt</td>\n",
       "      <td>S Korea spending boost to economy\\n\\nSouth Kor...</td>\n",
       "      <td>1</td>\n",
       "    </tr>\n",
       "    <tr>\n",
       "      <th>355</th>\n",
       "      <td>0.960801</td>\n",
       "      <td>business</td>\n",
       "      <td>356.txt</td>\n",
       "      <td>S Korea spending boost to economy\\n\\nSouth Kor...</td>\n",
       "      <td>1</td>\n",
       "    </tr>\n",
       "  </tbody>\n",
       "</table>\n",
       "</div>"
      ],
      "text/plain": [
       "     distance  category     file  \\\n",
       "100  0.955254  business  101.txt   \n",
       "506  0.959147  business  507.txt   \n",
       "289  0.959399  business  290.txt   \n",
       "437  0.959701  business  438.txt   \n",
       "415  0.959864  business  416.txt   \n",
       "120  0.959899  business  121.txt   \n",
       "164  0.960104  business  165.txt   \n",
       "492  0.960521  business  493.txt   \n",
       "257  0.960801  business  258.txt   \n",
       "355  0.960801  business  356.txt   \n",
       "\n",
       "                                                  text  value  \n",
       "100  Australia rates at four year high\\n\\nAustralia...      1  \n",
       "506  UK economy ends year with spurt\\n\\nThe UK econ...      1  \n",
       "289  Bank holds interest rate at 4.75%\\n\\nThe Bank ...      1  \n",
       "437  UK interest rates held at 4.75%\\n\\nThe Bank of...      1  \n",
       "415  Steady job growth continues in US\\n\\nThe US cr...      1  \n",
       "120  US interest rates increased to 2%\\n\\nUS intere...      1  \n",
       "164  Consumer spending lifts US growth\\n\\nUS econom...      1  \n",
       "492  China continues rapid growth\\n\\nChina's econom...      1  \n",
       "257  S Korea spending boost to economy\\n\\nSouth Kor...      1  \n",
       "355  S Korea spending boost to economy\\n\\nSouth Kor...      1  "
      ]
     },
     "execution_count": 68,
     "metadata": {},
     "output_type": "execute_result"
    }
   ],
   "source": [
    "C1 = pd.DataFrame({'distance': news_cs[0].nsmallest(10)}).join(articles_train)\n",
    "#C1"
   ]
  },
  {
   "cell_type": "code",
   "execution_count": 56,
   "metadata": {},
   "outputs": [
    {
     "name": "stdout",
     "output_type": "stream",
     "text": [
      "['business']\n"
     ]
    }
   ],
   "source": [
    "print(C1['category'].unique())"
   ]
  },
  {
   "cell_type": "code",
   "execution_count": 69,
   "metadata": {},
   "outputs": [
    {
     "data": {
      "image/png": "[encoded data removed]",
      "text/plain": [
       "<Figure size 432x288 with 1 Axes>"
      ]
     },
     "metadata": {
      "needs_background": "light"
     },
     "output_type": "display_data"
    }
   ],
   "source": [
    "catagory_counts = pd.DataFrame(C1.groupby(['category'])['value'].count())\n",
    "catagory_counts = catagory_counts.reset_index()\n",
    "catagory_counts = catagory_counts.rename(columns = {\"value\": \"Number_of_articles\"})\n",
    "ax = sns.barplot(x=\"category\", y=\"Number_of_articles\", data=catagory_counts)"
   ]
  },
  {
   "cell_type": "markdown",
   "metadata": {},
   "source": [
    "**business is the only catagory from cluster 1**"
   ]
  },
  {
   "cell_type": "markdown",
   "metadata": {},
   "source": [
    "Cluster 2:"
   ]
  },
  {
   "cell_type": "code",
   "execution_count": 59,
   "metadata": {
    "scrolled": true
   },
   "outputs": [],
   "source": [
    "C2 = pd.DataFrame({'distance': news_cs[1].nsmallest(10)}).join(articles_train)\n",
    "#C2"
   ]
  },
  {
   "cell_type": "code",
   "execution_count": 61,
   "metadata": {},
   "outputs": [
    {
     "name": "stdout",
     "output_type": "stream",
     "text": [
      "['entertainment']\n"
     ]
    }
   ],
   "source": [
    "print(C2['category'].unique())"
   ]
  },
  {
   "cell_type": "code",
   "execution_count": 70,
   "metadata": {},
   "outputs": [
    {
     "data": {
      "image/png": "[encoded data removed]",
      "text/plain": [
       "<Figure size 432x288 with 1 Axes>"
      ]
     },
     "metadata": {
      "needs_background": "light"
     },
     "output_type": "display_data"
    }
   ],
   "source": [
    "catagory_counts = pd.DataFrame(C2.groupby(['category'])['value'].count())\n",
    "catagory_counts = catagory_counts.reset_index()\n",
    "catagory_counts = catagory_counts.rename(columns = {\"value\": \"Number_of_articles\"})\n",
    "ax = sns.barplot(x=\"category\", y=\"Number_of_articles\", data=catagory_counts)"
   ]
  },
  {
   "cell_type": "markdown",
   "metadata": {},
   "source": [
    "**entertainment is the only catagory from cluster 2**"
   ]
  },
  {
   "cell_type": "markdown",
   "metadata": {},
   "source": [
    "Cluster 3:"
   ]
  },
  {
   "cell_type": "code",
   "execution_count": 62,
   "metadata": {
    "scrolled": true
   },
   "outputs": [],
   "source": [
    "C3 = pd.DataFrame({'distance': news_cs[2].nsmallest(10)}).join(articles_train)\n",
    "#C3"
   ]
  },
  {
   "cell_type": "code",
   "execution_count": 63,
   "metadata": {},
   "outputs": [
    {
     "name": "stdout",
     "output_type": "stream",
     "text": [
      "['sport']\n"
     ]
    }
   ],
   "source": [
    "print(C3['category'].unique())"
   ]
  },
  {
   "cell_type": "code",
   "execution_count": 71,
   "metadata": {},
   "outputs": [
    {
     "data": {
      "image/png": "[encoded data removed]",
      "text/plain": [
       "<Figure size 432x288 with 1 Axes>"
      ]
     },
     "metadata": {
      "needs_background": "light"
     },
     "output_type": "display_data"
    }
   ],
   "source": [
    "catagory_counts = pd.DataFrame(C3.groupby(['category'])['value'].count())\n",
    "catagory_counts = catagory_counts.reset_index()\n",
    "catagory_counts = catagory_counts.rename(columns = {\"value\": \"Number_of_articles\"})\n",
    "ax = sns.barplot(x=\"category\", y=\"Number_of_articles\", data=catagory_counts)"
   ]
  },
  {
   "cell_type": "markdown",
   "metadata": {},
   "source": [
    "**sport is the only catagory from cluster 3**"
   ]
  },
  {
   "cell_type": "markdown",
   "metadata": {},
   "source": [
    "Cluster 4:"
   ]
  },
  {
   "cell_type": "code",
   "execution_count": 64,
   "metadata": {},
   "outputs": [],
   "source": [
    "C4 = pd.DataFrame({'distance': news_cs[3].nsmallest(10)}).join(articles_train)\n",
    "#C4"
   ]
  },
  {
   "cell_type": "code",
   "execution_count": 65,
   "metadata": {
    "scrolled": true
   },
   "outputs": [
    {
     "name": "stdout",
     "output_type": "stream",
     "text": [
      "['politics']\n"
     ]
    }
   ],
   "source": [
    "print(C4['category'].unique())"
   ]
  },
  {
   "cell_type": "code",
   "execution_count": 72,
   "metadata": {},
   "outputs": [
    {
     "data": {
      "image/png": "[encoded data removed]",
      "text/plain": [
       "<Figure size 432x288 with 1 Axes>"
      ]
     },
     "metadata": {
      "needs_background": "light"
     },
     "output_type": "display_data"
    }
   ],
   "source": [
    "catagory_counts = pd.DataFrame(C4.groupby(['category'])['value'].count())\n",
    "catagory_counts = catagory_counts.reset_index()\n",
    "catagory_counts = catagory_counts.rename(columns = {\"value\": \"Number_of_articles\"})\n",
    "ax = sns.barplot(x=\"category\", y=\"Number_of_articles\", data=catagory_counts)"
   ]
  },
  {
   "cell_type": "markdown",
   "metadata": {},
   "source": [
    "**politics is the only catagory from cluster 4**"
   ]
  },
  {
   "cell_type": "markdown",
   "metadata": {},
   "source": [
    "Cluster 5:"
   ]
  },
  {
   "cell_type": "code",
   "execution_count": 66,
   "metadata": {},
   "outputs": [],
   "source": [
    "C5 = pd.DataFrame({'distance': news_cs[4].nsmallest(10)}).join(articles_train)\n",
    "#C5"
   ]
  },
  {
   "cell_type": "code",
   "execution_count": 67,
   "metadata": {
    "scrolled": true
   },
   "outputs": [
    {
     "name": "stdout",
     "output_type": "stream",
     "text": [
      "['tech']\n"
     ]
    }
   ],
   "source": [
    "print(C5['category'].unique())"
   ]
  },
  {
   "cell_type": "code",
   "execution_count": 73,
   "metadata": {},
   "outputs": [
    {
     "data": {
      "image/png": "[encoded data removed]",
      "text/plain": [
       "<Figure size 432x288 with 1 Axes>"
      ]
     },
     "metadata": {
      "needs_background": "light"
     },
     "output_type": "display_data"
    }
   ],
   "source": [
    "catagory_counts = pd.DataFrame(C5.groupby(['category'])['value'].count())\n",
    "catagory_counts = catagory_counts.reset_index()\n",
    "catagory_counts = catagory_counts.rename(columns = {\"value\": \"Number_of_articles\"})\n",
    "ax = sns.barplot(x=\"category\", y=\"Number_of_articles\", data=catagory_counts)"
   ]
  },
  {
   "cell_type": "markdown",
   "metadata": {},
   "source": [
    "**tech is the only catagory from cluster 4**"
   ]
  },
  {
   "cell_type": "markdown",
   "metadata": {},
   "source": [
    "3.\tDid the clustering do a good job of finding the categories?"
   ]
  },
  {
   "cell_type": "markdown",
   "metadata": {},
   "source": [
    "Yes, the Kmeans clustering produced the same cluster catagories described by BBC "
   ]
  },
  {
   "cell_type": "markdown",
   "metadata": {},
   "source": [
    "4.\tTry this again with 6 clusters. Do you think it did a better or worse job? Why do you think that is?"
   ]
  },
  {
   "cell_type": "code",
   "execution_count": 74,
   "metadata": {},
   "outputs": [],
   "source": [
    "kmeans = KMeans(6, n_jobs=2)\n",
    "mks = kmeans.fit_transform(train_Tfidf)"
   ]
  },
  {
   "cell_type": "code",
   "execution_count": 75,
   "metadata": {},
   "outputs": [
    {
     "data": {
      "text/html": [
       "<div>\n",
       "<style scoped>\n",
       "    .dataframe tbody tr th:only-of-type {\n",
       "        vertical-align: middle;\n",
       "    }\n",
       "\n",
       "    .dataframe tbody tr th {\n",
       "        vertical-align: top;\n",
       "    }\n",
       "\n",
       "    .dataframe thead th {\n",
       "        text-align: right;\n",
       "    }\n",
       "</style>\n",
       "<table border=\"1\" class=\"dataframe\">\n",
       "  <thead>\n",
       "    <tr style=\"text-align: right;\">\n",
       "      <th></th>\n",
       "      <th>0</th>\n",
       "      <th>1</th>\n",
       "      <th>2</th>\n",
       "      <th>3</th>\n",
       "      <th>4</th>\n",
       "      <th>5</th>\n",
       "    </tr>\n",
       "  </thead>\n",
       "  <tbody>\n",
       "    <tr>\n",
       "      <th>0</th>\n",
       "      <td>1.006862</td>\n",
       "      <td>0.992946</td>\n",
       "      <td>1.004234</td>\n",
       "      <td>0.976504</td>\n",
       "      <td>1.050230</td>\n",
       "      <td>1.008146</td>\n",
       "    </tr>\n",
       "    <tr>\n",
       "      <th>1</th>\n",
       "      <td>1.018014</td>\n",
       "      <td>0.992758</td>\n",
       "      <td>1.008385</td>\n",
       "      <td>0.964173</td>\n",
       "      <td>1.034200</td>\n",
       "      <td>1.005108</td>\n",
       "    </tr>\n",
       "    <tr>\n",
       "      <th>2</th>\n",
       "      <td>1.026977</td>\n",
       "      <td>0.998745</td>\n",
       "      <td>1.014657</td>\n",
       "      <td>0.984787</td>\n",
       "      <td>1.048257</td>\n",
       "      <td>1.013142</td>\n",
       "    </tr>\n",
       "    <tr>\n",
       "      <th>4</th>\n",
       "      <td>1.029138</td>\n",
       "      <td>1.005442</td>\n",
       "      <td>1.017468</td>\n",
       "      <td>0.999776</td>\n",
       "      <td>1.056139</td>\n",
       "      <td>1.014219</td>\n",
       "    </tr>\n",
       "    <tr>\n",
       "      <th>5</th>\n",
       "      <td>1.018411</td>\n",
       "      <td>1.001589</td>\n",
       "      <td>1.014924</td>\n",
       "      <td>0.976097</td>\n",
       "      <td>1.047091</td>\n",
       "      <td>1.011466</td>\n",
       "    </tr>\n",
       "  </tbody>\n",
       "</table>\n",
       "</div>"
      ],
      "text/plain": [
       "          0         1         2         3         4         5\n",
       "0  1.006862  0.992946  1.004234  0.976504  1.050230  1.008146\n",
       "1  1.018014  0.992758  1.008385  0.964173  1.034200  1.005108\n",
       "2  1.026977  0.998745  1.014657  0.984787  1.048257  1.013142\n",
       "4  1.029138  1.005442  1.017468  0.999776  1.056139  1.014219\n",
       "5  1.018411  1.001589  1.014924  0.976097  1.047091  1.011466"
      ]
     },
     "execution_count": 75,
     "metadata": {},
     "output_type": "execute_result"
    }
   ],
   "source": [
    "news_cs = pd.DataFrame(mks, index=articles_train.index)\n",
    "news_cs.head()"
   ]
  },
  {
   "cell_type": "markdown",
   "metadata": {},
   "source": [
    "Now lets look at the clusters!"
   ]
  },
  {
   "cell_type": "markdown",
   "metadata": {},
   "source": [
    "Cluster 1:"
   ]
  },
  {
   "cell_type": "code",
   "execution_count": 78,
   "metadata": {},
   "outputs": [
    {
     "data": {
      "image/png": "[encoded data removed]",
      "text/plain": [
       "<Figure size 432x288 with 1 Axes>"
      ]
     },
     "metadata": {
      "needs_background": "light"
     },
     "output_type": "display_data"
    }
   ],
   "source": [
    "C1 = pd.DataFrame({'distance': news_cs[0].nsmallest(10)}).join(articles_train)\n",
    "catagory_counts = pd.DataFrame(C1.groupby(['category'])['value'].count())\n",
    "catagory_counts = catagory_counts.reset_index()\n",
    "catagory_counts = catagory_counts.rename(columns = {\"value\": \"Number_of_articles\"})\n",
    "ax = sns.barplot(x=\"category\", y=\"Number_of_articles\", data=catagory_counts)"
   ]
  },
  {
   "cell_type": "markdown",
   "metadata": {},
   "source": [
    "Cluster 2:"
   ]
  },
  {
   "cell_type": "code",
   "execution_count": 79,
   "metadata": {},
   "outputs": [
    {
     "data": {
      "image/png": "[encoded data removed]",
      "text/plain": [
       "<Figure size 432x288 with 1 Axes>"
      ]
     },
     "metadata": {
      "needs_background": "light"
     },
     "output_type": "display_data"
    }
   ],
   "source": [
    "C2 = pd.DataFrame({'distance': news_cs[1].nsmallest(10)}).join(articles_train)\n",
    "catagory_counts = pd.DataFrame(C2.groupby(['category'])['value'].count())\n",
    "catagory_counts = catagory_counts.reset_index()\n",
    "catagory_counts = catagory_counts.rename(columns = {\"value\": \"Number_of_articles\"})\n",
    "ax = sns.barplot(x=\"category\", y=\"Number_of_articles\", data=catagory_counts)"
   ]
  },
  {
   "cell_type": "markdown",
   "metadata": {},
   "source": [
    "Cluster 3:"
   ]
  },
  {
   "cell_type": "code",
   "execution_count": 80,
   "metadata": {},
   "outputs": [
    {
     "data": {
      "image/png": "[encoded data removed]",
      "text/plain": [
       "<Figure size 432x288 with 1 Axes>"
      ]
     },
     "metadata": {
      "needs_background": "light"
     },
     "output_type": "display_data"
    }
   ],
   "source": [
    "C3 = pd.DataFrame({'distance': news_cs[2].nsmallest(10)}).join(articles_train)\n",
    "catagory_counts = pd.DataFrame(C3.groupby(['category'])['value'].count())\n",
    "catagory_counts = catagory_counts.reset_index()\n",
    "catagory_counts = catagory_counts.rename(columns = {\"value\": \"Number_of_articles\"})\n",
    "ax = sns.barplot(x=\"category\", y=\"Number_of_articles\", data=catagory_counts)"
   ]
  },
  {
   "cell_type": "markdown",
   "metadata": {},
   "source": [
    "Cluster 4:"
   ]
  },
  {
   "cell_type": "code",
   "execution_count": 81,
   "metadata": {},
   "outputs": [
    {
     "data": {
      "image/png": "[encoded data removed]",
      "text/plain": [
       "<Figure size 432x288 with 1 Axes>"
      ]
     },
     "metadata": {
      "needs_background": "light"
     },
     "output_type": "display_data"
    }
   ],
   "source": [
    "C4 = pd.DataFrame({'distance': news_cs[3].nsmallest(10)}).join(articles_train)\n",
    "catagory_counts = pd.DataFrame(C4.groupby(['category'])['value'].count())\n",
    "catagory_counts = catagory_counts.reset_index()\n",
    "catagory_counts = catagory_counts.rename(columns = {\"value\": \"Number_of_articles\"})\n",
    "ax = sns.barplot(x=\"category\", y=\"Number_of_articles\", data=catagory_counts)"
   ]
  },
  {
   "cell_type": "markdown",
   "metadata": {},
   "source": [
    "Cluster 5:"
   ]
  },
  {
   "cell_type": "code",
   "execution_count": 82,
   "metadata": {},
   "outputs": [
    {
     "data": {
      "image/png": "[encoded data removed]",
      "text/plain": [
       "<Figure size 432x288 with 1 Axes>"
      ]
     },
     "metadata": {
      "needs_background": "light"
     },
     "output_type": "display_data"
    }
   ],
   "source": [
    "C5 = pd.DataFrame({'distance': news_cs[4].nsmallest(10)}).join(articles_train)\n",
    "catagory_counts = pd.DataFrame(C5.groupby(['category'])['value'].count())\n",
    "catagory_counts = catagory_counts.reset_index()\n",
    "catagory_counts = catagory_counts.rename(columns = {\"value\": \"Number_of_articles\"})\n",
    "ax = sns.barplot(x=\"category\", y=\"Number_of_articles\", data=catagory_counts)"
   ]
  },
  {
   "cell_type": "markdown",
   "metadata": {},
   "source": [
    "Cluster 6:"
   ]
  },
  {
   "cell_type": "code",
   "execution_count": 83,
   "metadata": {},
   "outputs": [
    {
     "data": {
      "image/png": "[encoded data removed]",
      "text/plain": [
       "<Figure size 432x288 with 1 Axes>"
      ]
     },
     "metadata": {
      "needs_background": "light"
     },
     "output_type": "display_data"
    }
   ],
   "source": [
    "C6 = pd.DataFrame({'distance': news_cs[5].nsmallest(10)}).join(articles_train)\n",
    "catagory_counts = pd.DataFrame(C6.groupby(['category'])['value'].count())\n",
    "catagory_counts = catagory_counts.reset_index()\n",
    "catagory_counts = catagory_counts.rename(columns = {\"value\": \"Number_of_articles\"})\n",
    "ax = sns.barplot(x=\"category\", y=\"Number_of_articles\", data=catagory_counts)"
   ]
  },
  {
   "cell_type": "code",
   "execution_count": null,
   "metadata": {},
   "outputs": [],
   "source": [
    "silhouette_score(imat, kmeans.labels_)"
   ]
  }
 ],
 "metadata": {
  "kernelspec": {
   "display_name": "Python 3",
   "language": "python",
   "name": "python3"
  },
  "language_info": {
   "codemirror_mode": {
    "name": "ipython",
    "version": 3
   },
   "file_extension": ".py",
   "mimetype": "text/x-python",
   "name": "python",
   "nbconvert_exporter": "python",
   "pygments_lexer": "ipython3",
   "version": "3.7.5"
  }
 },
 "nbformat": 4,
 "nbformat_minor": 2
}
